{
 "cells": [
  {
   "cell_type": "code",
   "execution_count": 3,
   "metadata": {},
   "outputs": [
    {
     "data": {
      "text/plain": [
       "[16  0  0  0  0  0  0  0  0  0  0  0  0  0  0  0]\n",
       "[ 0  0  0  4  0  0  0  4  0  4  0  0  0  4  0  0]\n",
       "[ 0  0  0  2  0  4  2  0  0  0  2  0  2  2  2  0]\n",
       "[ 0  2  0  2  2  0  4  2  0  0  2  2  0  0  0  0]\n",
       "[ 0  0  0  0  0  4  2  2  0  2  2  0  2  0  2  0]\n",
       "[ 0  2  0  0  2  0  0  0  0  2  2  2  4  2  0  0]\n",
       "[ 0  0  2  0  0  0  2  0  2  0  0  4  2  0  0  4]\n",
       "[ 0  4  2  0  0  0  2  0  2  0  0  0  2  0  0  4]\n",
       "[ 0  0  0  2  0  0  0  2  0  2  0  4  0  2  0  4]\n",
       "[ 0  0  2  0  4  0  2  0  2  0  0  0  2  0  4  0]\n",
       "[ 0  0  2  2  0  4  0  0  2  0  2  0  0  2  2  0]\n",
       "[ 0  2  0  0  2  0  0  0  4  2  2  2  0  2  0  0]\n",
       "[ 0  0  2  0  0  4  0  2  2  2  2  0  0  0  2  0]\n",
       "[ 0  2  4  2  2  0  0  2  0  0  2  2  0  0  0  0]\n",
       "[ 0  0  2  2  0  0  2  2  2  2  0  0  2  2  0  0]\n",
       "[ 0  4  0  0  4  0  0  0  0  0  0  0  0  0  4  4]"
      ]
     },
     "execution_count": 3,
     "metadata": {},
     "output_type": "execute_result"
    }
   ],
   "source": [
    "from sage.crypto.sboxes import PRESENT as S\n",
    "Sinv = S.inverse()\n",
    "DDT = S.difference_distribution_table()\n",
    "DDT"
   ]
  },
  {
   "cell_type": "code",
   "execution_count": 4,
   "metadata": {},
   "outputs": [
    {
     "data": {
      "text/plain": [
       "[0, 2, 3, 5, 6, 7, 8, 9, 10, 11, 12, 13]"
      ]
     },
     "execution_count": 4,
     "metadata": {},
     "output_type": "execute_result"
    }
   ],
   "source": [
    "I = [DY for DY in range(16) if DDT[15][DY] == 0]; I"
   ]
  },
  {
   "cell_type": "code",
   "execution_count": 7,
   "metadata": {},
   "outputs": [
    {
     "name": "stdout",
     "output_type": "stream",
     "text": [
      "K1||K2 = 13,3\n"
     ]
    }
   ],
   "source": [
    "K1, K2 = randint(0, 15), randint(0, 15)\n",
    "print(\"K1||K2 = {},{}\".format(K1, K2))\n",
    "def ToyCipher(K1, K2, X):\n",
    "    C = S(S(X ^^ K1) ^^ K2) ^^ K1\n",
    "    return C"
   ]
  },
  {
   "cell_type": "code",
   "execution_count": 9,
   "metadata": {},
   "outputs": [
    {
     "name": "stdout",
     "output_type": "stream",
     "text": [
      "{(9, 6), (14, 0)}\n"
     ]
    }
   ],
   "source": [
    "N = 2\n",
    "pairs = Set()\n",
    "while len(pairs) < N:\n",
    "    P1 = randint(0, 15)\n",
    "    P2 = P1 ^^ 0xf\n",
    "    C1, C2 = ToyCipher(K1, K2, P1), ToyCipher(K1, K2, P2)\n",
    "    pairs += Set([(C1, C2)])\n",
    "print(pairs)"
   ]
  },
  {
   "cell_type": "code",
   "execution_count": 10,
   "metadata": {},
   "outputs": [
    {
     "name": "stdout",
     "output_type": "stream",
     "text": [
      "[2, 13]\n"
     ]
    }
   ],
   "source": [
    "K1_candidates = list(range(16))\n",
    "for K in range(0, 16):\n",
    "    for C in pairs:\n",
    "        dy = Sinv(C[0] ^^ K) ^^ Sinv(C[1] ^^ K)        \n",
    "        if (dy in I and K in K1_candidates):\n",
    "            K1_candidates.remove(K)\n",
    "print(K1_candidates)"
   ]
  },
  {
   "cell_type": "code",
   "execution_count": 11,
   "metadata": {},
   "outputs": [],
   "source": [
    "M = 1000\n",
    "N = 4\n",
    "Test = [0]*M\n",
    "K1, K2 = randint(0, 15), randint(0, 15)\n",
    "for i in range(M):\n",
    "    pairs = Set()\n",
    "    while len(pairs) < N:\n",
    "        P1 = randint(0, 15)\n",
    "        P2 = P1 ^^ 0xf\n",
    "        C1, C2 = ToyCipher(K1, K2, P1), ToyCipher(K1, K2, P2)\n",
    "        pairs += Set([(C1, C2)])\n",
    "    K1_candidates = list(range(16))\n",
    "    for K in range(0, 16):\n",
    "        for C in pairs:\n",
    "            dy = Sinv(C[0] ^^ K) ^^ Sinv(C[1] ^^ K)        \n",
    "            if (dy in I and K in K1_candidates):\n",
    "                K1_candidates.remove(K)\n",
    "    Test[i] = len(K1_candidates)"
   ]
  },
  {
   "cell_type": "code",
   "execution_count": 12,
   "metadata": {},
   "outputs": [
    {
     "data": {
      "text/plain": [
       "1.188"
      ]
     },
     "execution_count": 12,
     "metadata": {},
     "output_type": "execute_result"
    }
   ],
   "source": [
    "T1 = float(sum(Test)/M)\n",
    "T1"
   ]
  },
  {
   "cell_type": "code",
   "execution_count": 13,
   "metadata": {},
   "outputs": [
    {
     "data": {
      "text/plain": [
       "65.188"
      ]
     },
     "execution_count": 13,
     "metadata": {},
     "output_type": "execute_result"
    }
   ],
   "source": [
    "T = (2^4)*N + T1\n",
    "T"
   ]
  }
 ],
 "metadata": {
  "kernelspec": {
   "display_name": "SageMath 9.4",
   "language": "sage",
   "name": "sagemath"
  },
  "language_info": {
   "codemirror_mode": {
    "name": "ipython",
    "version": 3
   },
   "file_extension": ".py",
   "mimetype": "text/x-python",
   "name": "python",
   "nbconvert_exporter": "python",
   "pygments_lexer": "ipython3",
   "version": "3.9.5"
  }
 },
 "nbformat": 4,
 "nbformat_minor": 4
}
